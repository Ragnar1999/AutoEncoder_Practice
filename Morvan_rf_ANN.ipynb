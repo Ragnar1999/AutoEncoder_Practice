{
  "nbformat": 4,
  "nbformat_minor": 0,
  "metadata": {
    "colab": {
      "name": "Morvan_rf_ANN",
      "provenance": [],
      "collapsed_sections": [],
      "authorship_tag": "ABX9TyNK32xtGf7eIOR3UyUaZAzs",
      "include_colab_link": true
    },
    "kernelspec": {
      "name": "python3",
      "display_name": "Python 3"
    }
  },
  "cells": [
    {
      "cell_type": "markdown",
      "metadata": {
        "id": "view-in-github",
        "colab_type": "text"
      },
      "source": [
        "<a href=\"https://colab.research.google.com/github/Ragnar1999/Deep-learning/blob/master/Morvan_rf_ANN.ipynb\" target=\"_parent\"><img src=\"https://colab.research.google.com/assets/colab-badge.svg\" alt=\"Open In Colab\"/></a>"
      ]
    },
    {
      "cell_type": "code",
      "metadata": {
        "id": "x005a3XIZK7_",
        "colab_type": "code",
        "colab": {
          "base_uri": "https://localhost:8080/",
          "height": 124
        },
        "outputId": "5525b573-d4fd-48b0-b37f-a4ae7446b8fe"
      },
      "source": [
        "%tensorflow_version 1.15\n",
        "import tensorflow as tf\n",
        "tf.__version__"
      ],
      "execution_count": 1,
      "outputs": [
        {
          "output_type": "stream",
          "text": [
            "`%tensorflow_version` only switches the major version: 1.x or 2.x.\n",
            "You set: `1.15`. This will be interpreted as: `1.x`.\n",
            "\n",
            "\n",
            "TensorFlow 1.x selected.\n"
          ],
          "name": "stdout"
        },
        {
          "output_type": "execute_result",
          "data": {
            "text/plain": [
              "'1.15.2'"
            ]
          },
          "metadata": {
            "tags": []
          },
          "execution_count": 1
        }
      ]
    },
    {
      "cell_type": "code",
      "metadata": {
        "id": "JpxoDuEyZQzs",
        "colab_type": "code",
        "colab": {}
      },
      "source": [
        "import numpy as np\n",
        "import matplotlib.pyplot as plt"
      ],
      "execution_count": 0,
      "outputs": []
    },
    {
      "cell_type": "code",
      "metadata": {
        "id": "LUY1mn7DZQ3S",
        "colab_type": "code",
        "colab": {}
      },
      "source": [
        "def add_layer(inputs, in_size, out_size, activation_function=None):\n",
        "    Weights = tf.Variable(tf.random_normal([in_size, out_size])) # 定義一個矩陣, 可使用大寫開頭區分\n",
        "    biases = tf.Variable(tf.zeros([1, out_size]) + 0.1) # biases為偏差值, tf.zeros创建的参数, 初始值不為0\n",
        "    Wx_plus_b = tf.matmul(inputs, Weights) + biases # tf.matmul矩陣乘法\n",
        "    if activation_function is None:\n",
        "        outputs = Wx_plus_b\n",
        "    else:\n",
        "        outputs = activation_function(Wx_plus_b)\n",
        "    return outputs"
      ],
      "execution_count": 0,
      "outputs": []
    },
    {
      "cell_type": "code",
      "metadata": {
        "id": "cpYazBkrZQ7Z",
        "colab_type": "code",
        "colab": {}
      },
      "source": [
        "x_data = np.linspace(-1,1,300, dtype=np.float32)[:, np.newaxis]\n",
        "noise = np.random.normal(0, 0.05, x_data.shape).astype(np.float32)\n",
        "y_data = np.square(x_data) - 0.5 + noise # np.square(平方)\n"
      ],
      "execution_count": 0,
      "outputs": []
    },
    {
      "cell_type": "code",
      "metadata": {
        "id": "O3xN7s_IZQ-d",
        "colab_type": "code",
        "colab": {}
      },
      "source": [
        "xs = tf.placeholder(tf.float32, [None, 1])\n",
        "ys = tf.placeholder(tf.float32, [None, 1])"
      ],
      "execution_count": 0,
      "outputs": []
    },
    {
      "cell_type": "code",
      "metadata": {
        "id": "c1_yE4osZRA5",
        "colab_type": "code",
        "colab": {}
      },
      "source": [
        "l1 = add_layer(xs, 1, 10, activation_function=tf.nn.relu)\n",
        "prediction = add_layer(l1, 10, 1, activation_function=None)\n"
      ],
      "execution_count": 0,
      "outputs": []
    },
    {
      "cell_type": "code",
      "metadata": {
        "id": "xWogYtskZREO",
        "colab_type": "code",
        "colab": {}
      },
      "source": [
        "loss = tf.reduce_mean(tf.reduce_sum(tf.square(ys - prediction), reduction_indices=[1])) # tf.reduce_sum求和"
      ],
      "execution_count": 0,
      "outputs": []
    },
    {
      "cell_type": "code",
      "metadata": {
        "id": "DZJAI4GGZRHO",
        "colab_type": "code",
        "colab": {}
      },
      "source": [
        "train_step = tf.train.GradientDescentOptimizer(0.1).minimize(loss)"
      ],
      "execution_count": 0,
      "outputs": []
    },
    {
      "cell_type": "code",
      "metadata": {
        "id": "GZ_rrxi2ZRKL",
        "colab_type": "code",
        "colab": {}
      },
      "source": [
        "init = tf.global_variables_initializer() # 初始化, 後面才能運算\n",
        "sess = tf.Session()\n",
        "sess.run(init)\n"
      ],
      "execution_count": 0,
      "outputs": []
    },
    {
      "cell_type": "code",
      "metadata": {
        "id": "7rVDaDVyZklU",
        "colab_type": "code",
        "colab": {
          "base_uri": "https://localhost:8080/",
          "height": 265
        },
        "outputId": "6f83e49f-61c5-4030-a4f8-46a2182e1bd7"
      },
      "source": [
        "fig = plt.figure()\n",
        "ax = fig.add_subplot(1, 1, 1)\n",
        "ax.scatter(x_data, y_data) # scatter散點圖\n",
        "plt.ion() # 本次运行请注释，全局运行不要注释\n",
        "plt.show()"
      ],
      "execution_count": 10,
      "outputs": [
        {
          "output_type": "display_data",
          "data": {
            "image/png": "[encoded data removed]",
            "text/plain": [
              "<Figure size 432x288 with 1 Axes>"
            ]
          },
          "metadata": {
            "tags": [],
            "needs_background": "light"
          }
        }
      ]
    },
    {
      "cell_type": "code",
      "metadata": {
        "id": "JLS1kHZoZkot",
        "colab_type": "code",
        "colab": {}
      },
      "source": [
        "for i in range(1000):\n",
        "    sess.run(train_step, feed_dict={xs:x_data, ys:y_data})\n",
        "    if i % 50 == 0:\n",
        "        # to see the step improvement\n",
        "        # print(sess.run(loss, feed_dict={xs:x_data, ys:y_data}))\n",
        "        try:\n",
        "            ax.lines.remove(lines[0]) # 去除第一條線, 要不然太多條了\n",
        "        except Exception:\n",
        "            pass\n",
        "        prediction_value = sess.run(prediction, feed_dict={xs:x_data})\n",
        "        lines = ax.plot(x_data, prediction_value, 'r-', lw=5)        \n",
        "        plt.pause(0.1)"
      ],
      "execution_count": 0,
      "outputs": []
    },
    {
      "cell_type": "code",
      "metadata": {
        "id": "JjI76C1hZksB",
        "colab_type": "code",
        "colab": {}
      },
      "source": [
        ""
      ],
      "execution_count": 0,
      "outputs": []
    },
    {
      "cell_type": "code",
      "metadata": {
        "id": "w_vz96FnZku7",
        "colab_type": "code",
        "colab": {}
      },
      "source": [
        ""
      ],
      "execution_count": 0,
      "outputs": []
    },
    {
      "cell_type": "code",
      "metadata": {
        "id": "bvVCYY3BZkyv",
        "colab_type": "code",
        "colab": {}
      },
      "source": [
        ""
      ],
      "execution_count": 0,
      "outputs": []
    },
    {
      "cell_type": "code",
      "metadata": {
        "id": "KsWLgI0BZRNJ",
        "colab_type": "code",
        "colab": {}
      },
      "source": [
        ""
      ],
      "execution_count": 0,
      "outputs": []
    }
  ]
}